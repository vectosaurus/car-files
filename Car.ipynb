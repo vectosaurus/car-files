{
 "cells": [
  {
   "cell_type": "markdown",
   "metadata": {
    "toc": true
   },
   "source": [
    "<h1>Table of Contents<span class=\"tocSkip\"></span></h1>\n",
    "<div class=\"toc\"><ul class=\"toc-item\"><li><span><a href=\"#Cars-File\" data-toc-modified-id=\"Cars-File-1\"><span class=\"toc-item-num\">1&nbsp;&nbsp;</span>Cars File</a></span><ul class=\"toc-item\"><li><span><a href=\"#Data-Preparation\" data-toc-modified-id=\"Data-Preparation-1.1\"><span class=\"toc-item-num\">1.1&nbsp;&nbsp;</span>Data Preparation</a></span></li><li><span><a href=\"#Model-Building\" data-toc-modified-id=\"Model-Building-1.2\"><span class=\"toc-item-num\">1.2&nbsp;&nbsp;</span>Model Building</a></span><ul class=\"toc-item\"><li><span><a href=\"#Logistic-Regression\" data-toc-modified-id=\"Logistic-Regression-1.2.1\"><span class=\"toc-item-num\">1.2.1&nbsp;&nbsp;</span>Logistic Regression</a></span></li><li><span><a href=\"#Decision-Trees\" data-toc-modified-id=\"Decision-Trees-1.2.2\"><span class=\"toc-item-num\">1.2.2&nbsp;&nbsp;</span>Decision Trees</a></span></li><li><span><a href=\"#Random-Forest\" data-toc-modified-id=\"Random-Forest-1.2.3\"><span class=\"toc-item-num\">1.2.3&nbsp;&nbsp;</span>Random Forest</a></span></li><li><span><a href=\"#Multilayer-Perceptron\" data-toc-modified-id=\"Multilayer-Perceptron-1.2.4\"><span class=\"toc-item-num\">1.2.4&nbsp;&nbsp;</span>Multilayer Perceptron</a></span></li></ul></li><li><span><a href=\"#Accuracy-metrics\" data-toc-modified-id=\"Accuracy-metrics-1.3\"><span class=\"toc-item-num\">1.3&nbsp;&nbsp;</span>Accuracy metrics</a></span></li><li><span><a href=\"#Results\" data-toc-modified-id=\"Results-1.4\"><span class=\"toc-item-num\">1.4&nbsp;&nbsp;</span>Results</a></span></li></ul></li></ul></div>"
   ]
  },
  {
   "cell_type": "markdown",
   "metadata": {},
   "source": [
    "## Cars File"
   ]
  },
  {
   "cell_type": "markdown",
   "metadata": {},
   "source": [
    "### Data Preparation"
   ]
  },
  {
   "cell_type": "markdown",
   "metadata": {},
   "source": [
    "**Get all the packages and data ready**"
   ]
  },
  {
   "cell_type": "code",
   "execution_count": 1,
   "metadata": {},
   "outputs": [
    {
     "name": "stderr",
     "output_type": "stream",
     "text": [
      "Warning message:\n",
      "“package ‘caret’ was built under R version 3.4.1”Loading required package: lattice\n",
      "Loading required package: ggplot2\n",
      "Warning message in as.POSIXlt.POSIXct(Sys.time()):\n",
      "“unknown timezone 'zone/tz/2017c.1.0/zoneinfo/Asia/Kolkata'”dummy 0.1.3\n",
      "dummyNews()\n",
      "randomForest 4.6-12\n",
      "Type rfNews() to see new features/changes/bug fixes.\n",
      "\n",
      "Attaching package: ‘randomForest’\n",
      "\n",
      "The following object is masked from ‘package:ggplot2’:\n",
      "\n",
      "    margin\n",
      "\n",
      "Warning message:\n",
      "“package ‘RWeka’ was built under R version 3.4.3”"
     ]
    }
   ],
   "source": [
    "# read in all packages\n",
    "library(data.table)\n",
    "library(caret)\n",
    "library(dummy)\n",
    "library(nnet)\n",
    "library(randomForest)\n",
    "library(RWeka)\n",
    "# set options\n",
    "options(warn=-1)\n",
    "# read data\n",
    "data <- fread(\"train.arff.csv\")"
   ]
  },
  {
   "cell_type": "markdown",
   "metadata": {},
   "source": [
    "**Check the data types**"
   ]
  },
  {
   "cell_type": "code",
   "execution_count": 2,
   "metadata": {
    "collapsed": true
   },
   "outputs": [],
   "source": [
    "# check data types\n",
    "dtypes <- as.matrix(sapply(data, class))"
   ]
  },
  {
   "cell_type": "markdown",
   "metadata": {},
   "source": [
    "**Change the data types of the columns from characters to factors**"
   ]
  },
  {
   "cell_type": "code",
   "execution_count": 3,
   "metadata": {
    "collapsed": true
   },
   "outputs": [],
   "source": [
    "num_levels <- as.matrix(sapply(data, function(x){length(unique(x))}))\n",
    "data_class_changed <- as.data.frame(sapply(data,as.factor))\n",
    "target_levels <- as.matrix(sapply(data_class_changed, class))"
   ]
  },
  {
   "cell_type": "markdown",
   "metadata": {},
   "source": [
    "**Impute Missing values**"
   ]
  },
  {
   "cell_type": "code",
   "execution_count": 4,
   "metadata": {
    "collapsed": true
   },
   "outputs": [],
   "source": [
    "num_nas <- apply(data_class_changed, 2, function(x) sum(x == \" \"))"
   ]
  },
  {
   "cell_type": "markdown",
   "metadata": {},
   "source": [
    "<p style=\"color:green;\"><b>Has no missing values&#8593;</b></p>"
   ]
  },
  {
   "cell_type": "markdown",
   "metadata": {},
   "source": [
    "**Note**: in this exercise, we wont be splitting the dataset into test and train due to shortage of time."
   ]
  },
  {
   "cell_type": "markdown",
   "metadata": {},
   "source": [
    "**Check balance of data**"
   ]
  },
  {
   "cell_type": "code",
   "execution_count": 5,
   "metadata": {
    "collapsed": true
   },
   "outputs": [],
   "source": [
    "target_levels_dist <- 100*table(data_class_changed$class)/dim(data_class_changed)[1]"
   ]
  },
  {
   "cell_type": "markdown",
   "metadata": {},
   "source": [
    "** Rename the `class` column. `class` is a function in R**"
   ]
  },
  {
   "cell_type": "code",
   "execution_count": 6,
   "metadata": {
    "collapsed": true
   },
   "outputs": [],
   "source": [
    "colnames(data_class_changed)[7] <- \"category_type\""
   ]
  },
  {
   "cell_type": "markdown",
   "metadata": {},
   "source": [
    "### Model Building"
   ]
  },
  {
   "cell_type": "markdown",
   "metadata": {},
   "source": [
    "#### Logistic Regression"
   ]
  },
  {
   "cell_type": "code",
   "execution_count": 7,
   "metadata": {
    "collapsed": true
   },
   "outputs": [],
   "source": [
    "covariates <- names(data_class_changed)[!names(data_class_changed) == \"category_type\"]\n",
    "x = (dummy(data_class_changed[covariates]))\n",
    "x = sapply(x, function(xx){as.numeric(xx)-1})\n",
    "new_names<- names(x)\n",
    "y = data_class_changed[\"category_type\"]\n",
    "y = y$category_type"
   ]
  },
  {
   "cell_type": "code",
   "execution_count": 8,
   "metadata": {},
   "outputs": [
    {
     "name": "stdout",
     "output_type": "stream",
     "text": [
      "# weights:  68 (48 variable)\n",
      "initial  value 1677.416177 \n",
      "iter  10 value 463.498200\n",
      "iter  20 value 365.099598\n",
      "iter  30 value 238.326744\n",
      "iter  40 value 184.638230\n",
      "iter  50 value 171.070923\n",
      "iter  60 value 170.716280\n",
      "iter  70 value 170.672318\n",
      "iter  80 value 170.660067\n",
      "iter  90 value 170.659530\n",
      "final  value 170.659524 \n",
      "converged\n"
     ]
    }
   ],
   "source": [
    "data_class_changed$category_type <- relevel(data_class_changed$category_type, ref = \"unacc\")\n",
    "model_logreg <- multinom(category_type ~ ., data = data_class_changed)\n",
    "predictions_logreg <- predict(model_logreg,data_class_changed)"
   ]
  },
  {
   "cell_type": "markdown",
   "metadata": {},
   "source": [
    "#### Decision Trees"
   ]
  },
  {
   "cell_type": "code",
   "execution_count": 9,
   "metadata": {
    "collapsed": true
   },
   "outputs": [],
   "source": [
    "model_dt <- J48(category_type~., data=data_class_changed)\n",
    "predictions_dt <- predict(model_dt, data_class_changed)"
   ]
  },
  {
   "cell_type": "markdown",
   "metadata": {},
   "source": [
    "#### Random Forest"
   ]
  },
  {
   "cell_type": "code",
   "execution_count": 10,
   "metadata": {
    "collapsed": true
   },
   "outputs": [],
   "source": [
    "model_rf <- randomForest(category_type~., data=data_class_changed)\n",
    "predictions_rf <- predict(model_rf, data_class_changed)"
   ]
  },
  {
   "cell_type": "markdown",
   "metadata": {},
   "source": [
    "#### Multilayer Perceptron"
   ]
  },
  {
   "cell_type": "code",
   "execution_count": 11,
   "metadata": {},
   "outputs": [
    {
     "name": "stderr",
     "output_type": "stream",
     "text": [
      "Loading required package: Rcpp\n",
      "\n",
      "Attaching package: ‘RSNNS’\n",
      "\n",
      "The following objects are masked from ‘package:caret’:\n",
      "\n",
      "    confusionMatrix, train\n",
      "\n"
     ]
    }
   ],
   "source": [
    "model_mlp <- caret::train(x, y, method=\"mlp\")\n",
    "predictions_mlp <- predict(model_mlp, x)"
   ]
  },
  {
   "cell_type": "markdown",
   "metadata": {},
   "source": [
    "### Accuracy metrics"
   ]
  },
  {
   "cell_type": "code",
   "execution_count": 12,
   "metadata": {
    "collapsed": true
   },
   "outputs": [],
   "source": [
    "y_true <- as.factor(data_class_changed[,\"category_type\"])\n",
    "\n",
    "# build all the confusion matrices\n",
    "cm_logreg <- as.data.frame.matrix(table(predictions_logreg, y_true))\n",
    "cm_dt <- as.data.frame.matrix(table(predictions_dt, y_true))\n",
    "cm_rf <- as.data.frame.matrix(table(predictions_rf, y_true))\n",
    "cm_mlp <- as.data.frame.matrix(table(predictions_mlp, y_true))"
   ]
  },
  {
   "cell_type": "code",
   "execution_count": 13,
   "metadata": {
    "collapsed": true
   },
   "outputs": [],
   "source": [
    "# rearrange\n",
    "cm_logreg <- cm_logreg[order(rownames(cm_logreg)),order(colnames(cm_logreg))]\n",
    "cm_dt     <- cm_dt[order(rownames(cm_dt)),order(colnames(cm_dt))]\n",
    "cm_rf     <- cm_rf[order(rownames(cm_rf)),order(colnames(cm_rf))]\n",
    "cm_mlp    <- cm_mlp[order(rownames(cm_mlp)),order(colnames(cm_mlp))]"
   ]
  },
  {
   "cell_type": "code",
   "execution_count": 14,
   "metadata": {
    "collapsed": true
   },
   "outputs": [],
   "source": [
    "# function to caclulate class wise precision, accuracy, recall\n",
    "classification_metrics <- function(conf_mat,model_type){\n",
    "    precision <- diag(as.matrix(conf_mat)) / rowSums(conf_mat)\n",
    "    recall <- diag(as.matrix(conf_mat)) / colSums(conf_mat)\n",
    "    accuracy <- diag(as.matrix(conf_mat)) / sum(conf_mat)\n",
    "    df <- data.frame(accuracy,precision,recall)\n",
    "    colnames(df) <- paste(model_type,c(\"accuracy\",\"precision\",\"recall\"),sep=\"_\")\n",
    "    df\n",
    "}"
   ]
  },
  {
   "cell_type": "code",
   "execution_count": 15,
   "metadata": {
    "collapsed": true
   },
   "outputs": [],
   "source": [
    "# get all metrics\n",
    "metrics_logreg <- classification_metrics(cm_logreg, \"logreg\")\n",
    "metrics_dt <- classification_metrics(cm_dt, \"dt\")\n",
    "metrics_rf <- classification_metrics(cm_rf, \"rf\")\n",
    "metrics_mlp <- classification_metrics(cm_mlp, \"mlp\")"
   ]
  },
  {
   "cell_type": "code",
   "execution_count": 16,
   "metadata": {
    "collapsed": true
   },
   "outputs": [],
   "source": [
    "# combine all and rearrange\n",
    "metric_comparison <- cbind(metrics_logreg, metrics_dt,metrics_rf,metrics_mlp)\n",
    "rownames(metric_comparison) <- c(\"unacc\", \"acc\", \"good\", \"vgood\")\n",
    "models <- c(\"logreg\", \"dt\", \"rf\", \"mlp\")\n",
    "metrics <- c(\"accuracy\", \"recall\", \"precision\")\n",
    "model_metrics <- paste(rep(models,3),rep(metrics,4),sep=\"_\")\n",
    "accy <- model_metrics[grep(\"accuracy\", model_metrics)][order(model_metrics[grep(\"accuracy\", model_metrics)])]\n",
    "recl <- model_metrics[grep(\"recall\", model_metrics)][order(model_metrics[grep(\"recall\", model_metrics)])]\n",
    "prec <- model_metrics[grep(\"precision\", model_metrics)][order(model_metrics[grep(\"precision\", model_metrics)])]"
   ]
  },
  {
   "cell_type": "markdown",
   "metadata": {},
   "source": [
    "### Results"
   ]
  },
  {
   "cell_type": "markdown",
   "metadata": {},
   "source": [
    "The below table compares the classification metrics for each level and model. We have calculated three metrics for each model and level(levels here refers to each of the unique levels of the variable we are predicting: \"unacc\", \"acc\", \"good\", \"vgood\"). The metrics that we are calculating are: \n",
    "<ul>\n",
    "<li><i><b>Accuracy: </b></i>measures the fraction of all instances that are correctly categorized</li>\n",
    "<li><i><b>Recall: </b></i>is the proportion of people that tested positive and are positive (True Positive, TP) of all the people that actually are positive </li>\n",
    "<li><i><b>Precision: </b></i>it is the proportion of true positives out of all positive results</li>\n",
    "</ul>"
   ]
  },
  {
   "cell_type": "markdown",
   "metadata": {},
   "source": [
    "<img src=\"Precisionrecall.png\" width = 300px>"
   ]
  },
  {
   "cell_type": "code",
   "execution_count": 17,
   "metadata": {},
   "outputs": [
    {
     "data": {
      "text/html": [
       "<table>\n",
       "<thead><tr><th></th><th scope=col>dt_accuracy</th><th scope=col>logreg_accuracy</th><th scope=col>mlp_accuracy</th><th scope=col>rf_accuracy</th><th scope=col>dt_recall</th><th scope=col>logreg_recall</th><th scope=col>mlp_recall</th><th scope=col>rf_recall</th><th scope=col>dt_precision</th><th scope=col>logreg_precision</th><th scope=col>mlp_precision</th><th scope=col>rf_precision</th></tr></thead>\n",
       "<tbody>\n",
       "\t<tr><th scope=row>unacc</th><td>0.19834711</td><td>0.18925620</td><td>0.21322314</td><td>0.21818182</td><td>0.9090909 </td><td>0.8674242 </td><td>0.9772727 </td><td>1.0000000 </td><td>0.8727273 </td><td>0.8513011 </td><td>0.9555556 </td><td>0.9962264 </td></tr>\n",
       "\t<tr><th scope=row>acc</th><td>0.02727273</td><td>0.03553719</td><td>0.04214876</td><td>0.04297521</td><td>0.6346154 </td><td>0.8269231 </td><td>0.9807692 </td><td>1.0000000 </td><td>0.8250000 </td><td>0.8600000 </td><td>0.8500000 </td><td>1.0000000 </td></tr>\n",
       "\t<tr><th scope=row>good</th><td>0.68099174</td><td>0.66776860</td><td>0.68512397</td><td>0.69586777</td><td>0.9774614 </td><td>0.9584816 </td><td>0.9833926 </td><td>0.9988138 </td><td>0.9763033 </td><td>0.9676647 </td><td>1.0000000 </td><td>1.0000000 </td></tr>\n",
       "\t<tr><th scope=row>vgood</th><td>0.03884298</td><td>0.04132231</td><td>0.04214876</td><td>0.04214876</td><td>0.9215686 </td><td>0.9803922 </td><td>1.0000000 </td><td>1.0000000 </td><td>0.9215686 </td><td>0.8928571 </td><td>1.0000000 </td><td>1.0000000 </td></tr>\n",
       "</tbody>\n",
       "</table>\n"
      ],
      "text/latex": [
       "\\begin{tabular}{r|llllllllllll}\n",
       "  & dt\\_accuracy & logreg\\_accuracy & mlp\\_accuracy & rf\\_accuracy & dt\\_recall & logreg\\_recall & mlp\\_recall & rf\\_recall & dt\\_precision & logreg\\_precision & mlp\\_precision & rf\\_precision\\\\\n",
       "\\hline\n",
       "\tunacc & 0.19834711 & 0.18925620 & 0.21322314 & 0.21818182 & 0.9090909  & 0.8674242  & 0.9772727  & 1.0000000  & 0.8727273  & 0.8513011  & 0.9555556  & 0.9962264 \\\\\n",
       "\tacc & 0.02727273 & 0.03553719 & 0.04214876 & 0.04297521 & 0.6346154  & 0.8269231  & 0.9807692  & 1.0000000  & 0.8250000  & 0.8600000  & 0.8500000  & 1.0000000 \\\\\n",
       "\tgood & 0.68099174 & 0.66776860 & 0.68512397 & 0.69586777 & 0.9774614  & 0.9584816  & 0.9833926  & 0.9988138  & 0.9763033  & 0.9676647  & 1.0000000  & 1.0000000 \\\\\n",
       "\tvgood & 0.03884298 & 0.04132231 & 0.04214876 & 0.04214876 & 0.9215686  & 0.9803922  & 1.0000000  & 1.0000000  & 0.9215686  & 0.8928571  & 1.0000000  & 1.0000000 \\\\\n",
       "\\end{tabular}\n"
      ],
      "text/markdown": [
       "\n",
       "| <!--/--> | dt_accuracy | logreg_accuracy | mlp_accuracy | rf_accuracy | dt_recall | logreg_recall | mlp_recall | rf_recall | dt_precision | logreg_precision | mlp_precision | rf_precision | \n",
       "|---|---|---|---|\n",
       "| unacc | 0.19834711 | 0.18925620 | 0.21322314 | 0.21818182 | 0.9090909  | 0.8674242  | 0.9772727  | 1.0000000  | 0.8727273  | 0.8513011  | 0.9555556  | 0.9962264  | \n",
       "| acc | 0.02727273 | 0.03553719 | 0.04214876 | 0.04297521 | 0.6346154  | 0.8269231  | 0.9807692  | 1.0000000  | 0.8250000  | 0.8600000  | 0.8500000  | 1.0000000  | \n",
       "| good | 0.68099174 | 0.66776860 | 0.68512397 | 0.69586777 | 0.9774614  | 0.9584816  | 0.9833926  | 0.9988138  | 0.9763033  | 0.9676647  | 1.0000000  | 1.0000000  | \n",
       "| vgood | 0.03884298 | 0.04132231 | 0.04214876 | 0.04214876 | 0.9215686  | 0.9803922  | 1.0000000  | 1.0000000  | 0.9215686  | 0.8928571  | 1.0000000  | 1.0000000  | \n",
       "\n",
       "\n"
      ],
      "text/plain": [
       "      dt_accuracy logreg_accuracy mlp_accuracy rf_accuracy dt_recall\n",
       "unacc 0.19834711  0.18925620      0.21322314   0.21818182  0.9090909\n",
       "acc   0.02727273  0.03553719      0.04214876   0.04297521  0.6346154\n",
       "good  0.68099174  0.66776860      0.68512397   0.69586777  0.9774614\n",
       "vgood 0.03884298  0.04132231      0.04214876   0.04214876  0.9215686\n",
       "      logreg_recall mlp_recall rf_recall dt_precision logreg_precision\n",
       "unacc 0.8674242     0.9772727  1.0000000 0.8727273    0.8513011       \n",
       "acc   0.8269231     0.9807692  1.0000000 0.8250000    0.8600000       \n",
       "good  0.9584816     0.9833926  0.9988138 0.9763033    0.9676647       \n",
       "vgood 0.9803922     1.0000000  1.0000000 0.9215686    0.8928571       \n",
       "      mlp_precision rf_precision\n",
       "unacc 0.9555556     0.9962264   \n",
       "acc   0.8500000     1.0000000   \n",
       "good  1.0000000     1.0000000   \n",
       "vgood 1.0000000     1.0000000   "
      ]
     },
     "metadata": {},
     "output_type": "display_data"
    }
   ],
   "source": [
    "metric_comparison[c(accy,recl,prec)]"
   ]
  }
 ],
 "metadata": {
  "kernelspec": {
   "display_name": "R",
   "language": "R",
   "name": "ir"
  },
  "language_info": {
   "codemirror_mode": "r",
   "file_extension": ".r",
   "mimetype": "text/x-r-source",
   "name": "R",
   "pygments_lexer": "r",
   "version": "3.4.0"
  },
  "toc": {
   "nav_menu": {},
   "number_sections": true,
   "sideBar": true,
   "skip_h1_title": false,
   "title_cell": "Table of Contents",
   "title_sidebar": "Contents",
   "toc_cell": true,
   "toc_position": {},
   "toc_section_display": true,
   "toc_window_display": false
  }
 },
 "nbformat": 4,
 "nbformat_minor": 2
}
